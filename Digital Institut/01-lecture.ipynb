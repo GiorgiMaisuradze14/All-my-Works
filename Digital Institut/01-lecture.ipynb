{
 "cells": [
  {
   "cell_type": "markdown",
   "metadata": {},
   "source": [
    "First Lecture"
   ]
  },
  {
   "cell_type": "code",
   "execution_count": 1,
   "metadata": {},
   "outputs": [
    {
     "name": "stdout",
     "output_type": "stream",
     "text": [
      "Her name's Lewis.\n"
     ]
    }
   ],
   "source": [
    "print('Her name\\'s Lewis.')"
   ]
  },
  {
   "cell_type": "code",
   "execution_count": 29,
   "metadata": {},
   "outputs": [
    {
     "name": "stdout",
     "output_type": "stream",
     "text": [
      "Welcome in Digital Giorgi Maisuradze , you are 22 year old\n",
      "Welcome in Digital Giorgi Maisuradze , you are 22 year old \n"
     ]
    }
   ],
   "source": [
    "a = 'Giorgi Maisuradze'\n",
    "b = 22\n",
    "c = f'Welcome in Digital {a} , you are {b} year old'\n",
    "d = 'Welcome in Digital {} , you are {} year old '.format(a,b)\n",
    "\n",
    "print(c)\n",
    "print(d)\n"
   ]
  },
  {
   "cell_type": "code",
   "execution_count": 26,
   "metadata": {},
   "outputs": [
    {
     "name": "stdout",
     "output_type": "stream",
     "text": [
      "['Hello', ' my name is']\n",
      "['Hello,', 'my', 'name', 'is']\n"
     ]
    }
   ],
   "source": [
    "txt = 'Hello, my name is'\n",
    "print(txt.split(','))\n",
    "print(txt.split())"
   ]
  },
  {
   "cell_type": "code",
   "execution_count": 32,
   "metadata": {},
   "outputs": [
    {
     "name": "stdout",
     "output_type": "stream",
     "text": [
      "1\n"
     ]
    }
   ],
   "source": [
    "a = [[23,24],[1,2,3] , 'abc']\n",
    "print(a[1][0])"
   ]
  },
  {
   "cell_type": "code",
   "execution_count": 34,
   "metadata": {},
   "outputs": [
    {
     "name": "stdout",
     "output_type": "stream",
     "text": [
      "[1, 2, 3, 'ab', 2, 3, 4, 'bds']\n"
     ]
    }
   ],
   "source": [
    "a = [1,2,3,'ab']\n",
    "b = [2,3,4,'bds']\n",
    "\n",
    "a.extend(b)\n",
    "print(a)"
   ]
  },
  {
   "cell_type": "code",
   "execution_count": 45,
   "metadata": {},
   "outputs": [
    {
     "name": "stdout",
     "output_type": "stream",
     "text": [
      "{'Mustang', 'BMW', 'Merseders'}\n"
     ]
    }
   ],
   "source": [
    "thisdict = {\n",
    "  \"brand\": ['BMW','Merseders','Mustang'],\n",
    "  \"model\": \"New\",\n",
    "  \"year\": 1964\n",
    "}\n",
    "\n",
    "a = set(thisdict['brand'])\n",
    "\n",
    "print(a)"
   ]
  },
  {
   "cell_type": "code",
   "execution_count": 49,
   "metadata": {},
   "outputs": [
    {
     "name": "stdout",
     "output_type": "stream",
     "text": [
      "11\n"
     ]
    }
   ],
   "source": [
    "thisdict = {\n",
    "  \"fisrt\": 34,\n",
    "  \"second\": 23,\n",
    "}\n",
    "\n",
    "list_1 = [11,2,3]\n",
    "\n",
    "if thisdict['fisrt'] > thisdict['second'] :\n",
    "    print(list_1[0])\n",
    "elif thisdict['fisrt'] == thisdict['second'] :\n",
    "     print(list_1[1])\n",
    "else :\n",
    "     print(list_1[2])"
   ]
  },
  {
   "cell_type": "markdown",
   "metadata": {},
   "source": [
    "Second Lecture"
   ]
  },
  {
   "cell_type": "code",
   "execution_count": null,
   "metadata": {},
   "outputs": [],
   "source": [
    "import time\n",
    "\n",
    "list_1 = [1,2,3,4,5,6]\n",
    "\n",
    "for element in list_1 :\n",
    "    print(element)\n",
    "    time.sleep(2)\n",
    "    "
   ]
  },
  {
   "cell_type": "code",
   "execution_count": null,
   "metadata": {},
   "outputs": [],
   "source": [
    "list_of_names = ['Giorgi','Tengo','Nana','Laliko','Tamari','Kote']\n",
    "\n",
    "for i in list_of_names :\n",
    "    print(f'Hello, {i}')"
   ]
  },
  {
   "cell_type": "code",
   "execution_count": null,
   "metadata": {},
   "outputs": [],
   "source": [
    "numbers = [1, 5, 3, 8, 2]\n",
    "\n",
    "for i in range(1, len(numbers)):\n",
    "    result = numbers[i] - numbers[i - 1]\n",
    "    print(result)\n",
    "\n"
   ]
  },
  {
   "cell_type": "code",
   "execution_count": 17,
   "metadata": {},
   "outputs": [
    {
     "name": "stdout",
     "output_type": "stream",
     "text": [
      "1 3\n",
      "2 2\n",
      "3 1\n",
      "4 8\n",
      "5 5\n",
      "6 1\n"
     ]
    }
   ],
   "source": [
    "list_3 = [1, 2, 3, 4, 5, 6]\n",
    "list_4 = [3, 2, 1, 8, 5, 1]\n",
    "\n",
    "for i , n in zip(list_3,list_4):\n",
    "    print(i,n)"
   ]
  },
  {
   "cell_type": "code",
   "execution_count": 20,
   "metadata": {},
   "outputs": [
    {
     "name": "stdout",
     "output_type": "stream",
     "text": [
      "[3, 7, 9, 5]\n"
     ]
    }
   ],
   "source": [
    "first_list = [3, 7, 2, 9, 5]\n",
    "second_list = [1, 5, 3, 8, 2]\n",
    "third_list= []\n",
    "\n",
    "for p, q in zip(first_list, second_list) :\n",
    "     if p > q :\n",
    "        third_list.append(p)\n",
    "    \n",
    "print(third_list)"
   ]
  },
  {
   "cell_type": "code",
   "execution_count": 21,
   "metadata": {},
   "outputs": [
    {
     "name": "stdout",
     "output_type": "stream",
     "text": [
      "[3, 7, 9, 5]\n"
     ]
    }
   ],
   "source": [
    "# list comprehensions\n",
    "first_list = [3, 7, 2, 9, 5]\n",
    "second_list = [1, 5, 3, 8, 2]\n",
    "\n",
    "result = [p for p, q in zip(first_list, second_list) if p > q]\n",
    "\n",
    "print(result)"
   ]
  },
  {
   "cell_type": "code",
   "execution_count": 25,
   "metadata": {},
   "outputs": [
    {
     "name": "stdout",
     "output_type": "stream",
     "text": [
      "['Nana', 'Laliko', 'Tamari']\n"
     ]
    }
   ],
   "source": [
    "text_1 = ['Mari','Ana','Nana','Laliko','Tamari','Nika']\n",
    "text_2 = ['Giorgi','Nana','Tengo','Laliko','Tamari','Kote']\n",
    "\n",
    "list_3 = [p for p in text_1 if p in text_2]\n",
    "print(list_3)\n",
    "\n",
    "\n"
   ]
  },
  {
   "cell_type": "code",
   "execution_count": 27,
   "metadata": {},
   "outputs": [
    {
     "name": "stdout",
     "output_type": "stream",
     "text": [
      "a isnt equal b\n"
     ]
    }
   ],
   "source": [
    "def my_func(a = 2 , b = 4):\n",
    "    if a == b :\n",
    "        print('a equal b')\n",
    "    else :\n",
    "        print('a isnt equal b') \n",
    "\n",
    "my_func()"
   ]
  },
  {
   "cell_type": "code",
   "execution_count": 29,
   "metadata": {},
   "outputs": [
    {
     "name": "stdout",
     "output_type": "stream",
     "text": [
      "30\n"
     ]
    },
    {
     "data": {
      "text/plain": [
       "['e', 'as', 'fder']"
      ]
     },
     "execution_count": 29,
     "metadata": {},
     "output_type": "execute_result"
    }
   ],
   "source": [
    "x = lambda a, b : a * b\n",
    "print(x(5, 6))\n",
    "\n",
    "\n",
    "list_str = ['as','fder','e']\n",
    "sorted(list_str , key = lambda x : len(x))"
   ]
  },
  {
   "cell_type": "code",
   "execution_count": 33,
   "metadata": {},
   "outputs": [
    {
     "name": "stdout",
     "output_type": "stream",
     "text": [
      "not equal\n",
      "['a']\n"
     ]
    }
   ],
   "source": [
    "a = ['a','df']\n",
    "b = ['rft' , 'w' , 'a']\n",
    "\n",
    "def my_func_1 (a,b):\n",
    "    list_3 = [p for p in a if p in b]\n",
    "\n",
    "    if len(a) == len(b):\n",
    "        print('equal')\n",
    "    else:\n",
    "        print('not equal')\n",
    "    print(list_3)\n",
    "\n",
    "my_func_1(a,b)\n",
    "\n",
    "    "
   ]
  },
  {
   "cell_type": "markdown",
   "metadata": {},
   "source": [
    "Numpy"
   ]
  },
  {
   "cell_type": "code",
   "execution_count": 1,
   "metadata": {},
   "outputs": [
    {
     "name": "stderr",
     "output_type": "stream",
     "text": [
      "C:\\Users\\gstore\\AppData\\Local\\Temp\\ipykernel_18736\\1662815981.py:2: DeprecationWarning: \n",
      "Pyarrow will become a required dependency of pandas in the next major release of pandas (pandas 3.0),\n",
      "(to allow more performant data types, such as the Arrow string type, and better interoperability with other libraries)\n",
      "but was not found to be installed on your system.\n",
      "If this would cause problems for you,\n",
      "please provide us feedback at https://github.com/pandas-dev/pandas/issues/54466\n",
      "        \n",
      "  import pandas as pd\n"
     ]
    }
   ],
   "source": [
    "import numpy as np\n",
    "import pandas as pd\n",
    "\n",
    "arr = np.random.randint(100, size=(10,5))\n",
    "col_lst = ['A','B','C','D','E']\n",
    "df = pd.DataFrame(arr, columns=col_lst)\n",
    "df['A']"
   ]
  },
  {
   "cell_type": "code",
   "execution_count": 15,
   "metadata": {},
   "outputs": [
    {
     "name": "stdout",
     "output_type": "stream",
     "text": [
      "    A   B   C   D   E   new\n",
      "0  39  60  42  72  16   8.8\n",
      "1  28  69  81  35  91  12.6\n",
      "2  55  50  45  49   1   5.0\n",
      "3  83  39  10  79  13   9.2\n",
      "4  59  58  41  98  27  12.5\n",
      "5  38  50  44  36  26   6.2\n",
      "6  56  23  84  27  38   6.5\n",
      "7  98  63  33  15  39   5.4\n",
      "8  20  31   7  95  94  18.9\n",
      "9  65  84  17  39  96  13.5\n"
     ]
    }
   ],
   "source": [
    "data = np.random.randint(100 , size=(10,5))\n",
    "df = pd.DataFrame(data,columns=('A','B','C','D','E'))\n",
    "\n",
    "df['new'] = (df['D'] + df['E'])/len(df)\n",
    "print(df)\n",
    "\n"
   ]
  },
  {
   "cell_type": "code",
   "execution_count": 3,
   "metadata": {},
   "outputs": [
    {
     "data": {
      "text/plain": [
       "0    37\n",
       "1    84\n",
       "2     9\n",
       "3     1\n",
       "4    78\n",
       "5    67\n",
       "6    14\n",
       "7    72\n",
       "8    70\n",
       "9    46\n",
       "Name: A, dtype: int32"
      ]
     },
     "execution_count": 3,
     "metadata": {},
     "output_type": "execute_result"
    }
   ],
   "source": [
    "arr = np.random.randint(100, size=(10,5))\n",
    "col_lst = ['A','B','C','D','E']\n",
    "df = pd.DataFrame(arr, columns=col_lst)\n",
    "df['A']"
   ]
  },
  {
   "cell_type": "code",
   "execution_count": null,
   "metadata": {},
   "outputs": [],
   "source": []
  }
 ],
 "metadata": {
  "kernelspec": {
   "display_name": "Python 3",
   "language": "python",
   "name": "python3"
  },
  "language_info": {
   "codemirror_mode": {
    "name": "ipython",
    "version": 3
   },
   "file_extension": ".py",
   "mimetype": "text/x-python",
   "name": "python",
   "nbconvert_exporter": "python",
   "pygments_lexer": "ipython3",
   "version": "3.11.8"
  }
 },
 "nbformat": 4,
 "nbformat_minor": 2
}
